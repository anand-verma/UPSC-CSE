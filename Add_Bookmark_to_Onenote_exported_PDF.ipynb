{
  "cells": [
    {
      "cell_type": "markdown",
      "metadata": {
        "id": "view-in-github",
        "colab_type": "text"
      },
      "source": [
        "<a href=\"https://colab.research.google.com/github/anand-verma/UPSC-CSE/blob/main/Add_Bookmark_to_Onenote_exported_PDF.ipynb\" target=\"_parent\"><img src=\"https://colab.research.google.com/assets/colab-badge.svg\" alt=\"Open In Colab\"/></a>"
      ]
    },
    {
      "cell_type": "code",
      "execution_count": null,
      "metadata": {
        "id": "twCk4LkRwp5o"
      },
      "outputs": [],
      "source": [
        "!pip install fitz\n",
        "!pip install PyMuPDF"
      ]
    },
    {
      "cell_type": "code",
      "execution_count": null,
      "metadata": {
        "id": "hdUQVrAkxGNX"
      },
      "outputs": [],
      "source": [
        "import fitz  # PyMuPDF\n",
        "import re\n",
        "from IPython.display import display, HTML\n",
        "\n",
        "# Function to extract titles and date-time stamps\n",
        "def extract_titles_with_timestamps(pdf_path):\n",
        "    try:\n",
        "        doc = fitz.open(pdf_path)\n",
        "        titles_with_pages = []\n",
        "        date_time_regex = re.compile(r'\\d{2} \\w+ \\d{4}')\n",
        "        time_regex = re.compile(r'\\d{2}:\\d{2}')\n",
        "        default_title = \"Untitled Page\"\n",
        "\n",
        "        for page_num in range(len(doc)):\n",
        "            try:\n",
        "                page = doc.load_page(page_num)\n",
        "                text = page.get_text(\"text\")\n",
        "                lines = text.split('\\n')\n",
        "\n",
        "                # Check only the last 8 lines\n",
        "                lines_to_check = lines[-8:] if len(lines) > 8 else lines\n",
        "\n",
        "                title = default_title\n",
        "                date_found = False\n",
        "                time_found = False\n",
        "\n",
        "                # Check from the last line in reverse\n",
        "                for i in range(len(lines_to_check) - 1, -1, -1):\n",
        "                    line = lines_to_check[i].strip()\n",
        "                    #print (str(i) +\" line is \"+ line)\n",
        "                    if time_regex.match(line):\n",
        "                        time_found = True\n",
        "                    elif date_time_regex.match(line):\n",
        "                        date_found = True\n",
        "                    elif date_found and time_found:\n",
        "                        title = lines_to_check[i].strip() if i < len(lines_to_check) else default_title\n",
        "                        titles_with_pages.append((title if title else default_title, page_num+1))\n",
        "                        break  # Break the loop after finding the title\n",
        "\n",
        "            except Exception as e:\n",
        "                print(f\"Error processing page {page_num}: {e}\")\n",
        "\n",
        "        return titles_with_pages\n",
        "\n",
        "    except Exception as e:\n",
        "        print(f\"Error opening or processing the PDF: {e}\")\n",
        "        return []"
      ]
    },
    {
      "cell_type": "code",
      "execution_count": null,
      "metadata": {
        "id": "znEYJMCjxRmd"
      },
      "outputs": [],
      "source": [
        "# Add bookmarks to the PDF\n",
        "def add_bookmarks_to_pdf(pdf_path, bookmarks):\n",
        "    try:\n",
        "        doc = fitz.open(pdf_path)\n",
        "        toc = []\n",
        "        for title, page_num in bookmarks:\n",
        "            toc.append((1, title, page_num))\n",
        "\n",
        "        # Set the table of contents (TOC)\n",
        "        doc.set_toc(toc)\n",
        "        output_path = \"/content/output_with_bookmarks.pdf\"\n",
        "        doc.save(output_path)\n",
        "        return output_path\n",
        "\n",
        "    except Exception as e:\n",
        "        print(f\"Error adding bookmarks to the PDF: {e}\")\n",
        "        return None"
      ]
    },
    {
      "cell_type": "code",
      "execution_count": null,
      "metadata": {
        "collapsed": true,
        "id": "rNksHemNwyJ9"
      },
      "outputs": [],
      "source": [
        "from google.colab import files\n",
        "\n",
        "\n",
        "# Upload file\n",
        "uploaded = files.upload()\n",
        "\n",
        "for filename in uploaded.keys():\n",
        "    print(f'Uploaded file: {filename}')\n",
        "    pdf_path = filename\n"
      ]
    },
    {
      "cell_type": "code",
      "execution_count": null,
      "metadata": {
        "colab": {
          "background_save": true,
          "base_uri": "https://localhost:8080/",
          "height": 17
        },
        "id": "DigUHOtrzJfj",
        "outputId": "2d2048bd-b957-47b0-e9fd-f89d9fbc5945"
      },
      "outputs": [
        {
          "data": {
            "application/javascript": [
              "\n",
              "    async function download(id, filename, size) {\n",
              "      if (!google.colab.kernel.accessAllowed) {\n",
              "        return;\n",
              "      }\n",
              "      const div = document.createElement('div');\n",
              "      const label = document.createElement('label');\n",
              "      label.textContent = `Downloading \"${filename}\": `;\n",
              "      div.appendChild(label);\n",
              "      const progress = document.createElement('progress');\n",
              "      progress.max = size;\n",
              "      div.appendChild(progress);\n",
              "      document.body.appendChild(div);\n",
              "\n",
              "      const buffers = [];\n",
              "      let downloaded = 0;\n",
              "\n",
              "      const channel = await google.colab.kernel.comms.open(id);\n",
              "      // Send a message to notify the kernel that we're ready.\n",
              "      channel.send({})\n",
              "\n",
              "      for await (const message of channel.messages) {\n",
              "        // Send a message to notify the kernel that we're ready.\n",
              "        channel.send({})\n",
              "        if (message.buffers) {\n",
              "          for (const buffer of message.buffers) {\n",
              "            buffers.push(buffer);\n",
              "            downloaded += buffer.byteLength;\n",
              "            progress.value = downloaded;\n",
              "          }\n",
              "        }\n",
              "      }\n",
              "      const blob = new Blob(buffers, {type: 'application/binary'});\n",
              "      const a = document.createElement('a');\n",
              "      a.href = window.URL.createObjectURL(blob);\n",
              "      a.download = filename;\n",
              "      div.appendChild(a);\n",
              "      a.click();\n",
              "      div.remove();\n",
              "    }\n",
              "  "
            ],
            "text/plain": [
              "<IPython.core.display.Javascript object>"
            ]
          },
          "metadata": {},
          "output_type": "display_data"
        },
        {
          "data": {
            "application/javascript": [
              "download(\"download_fd495b8d-0c2c-4e00-ba71-2775ba373c44\", \"output_with_bookmarks.pdf\", 7282090)"
            ],
            "text/plain": [
              "<IPython.core.display.Javascript object>"
            ]
          },
          "metadata": {},
          "output_type": "display_data"
        }
      ],
      "source": [
        "# Extract titles and timestamps\n",
        "titles_with_pages = extract_titles_with_timestamps(pdf_path)\n",
        "print(titles_with_pages)\n",
        "\n",
        "# Add bookmarks to the PDF\n",
        "output_pdf_path = add_bookmarks_to_pdf(pdf_path, titles_with_pages)\n",
        "\n"
      ]
    },
    {
      "cell_type": "code",
      "source": [
        "# Provide download link if the output file is successfully created\n",
        "if output_pdf_path:\n",
        "    files.download(output_pdf_path)\n",
        "else:\n",
        "    print(\"Failed to create the PDF with bookmarks.\")"
      ],
      "metadata": {
        "id": "C1kJU3Ys_dZz"
      },
      "execution_count": null,
      "outputs": []
    }
  ],
  "metadata": {
    "colab": {
      "provenance": [],
      "authorship_tag": "ABX9TyM0l3sAVrtErJC+YdhllUyi",
      "include_colab_link": true
    },
    "kernelspec": {
      "display_name": "Python 3",
      "name": "python3"
    },
    "language_info": {
      "name": "python"
    }
  },
  "nbformat": 4,
  "nbformat_minor": 0
}